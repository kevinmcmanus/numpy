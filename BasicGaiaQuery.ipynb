{
  "nbformat": 4,
  "nbformat_minor": 0,
  "metadata": {
    "colab": {
      "name": "BasicGaiaQuery.ipynb",
      "provenance": [],
      "authorship_tag": "ABX9TyPf46BXcRWv6qUbYWCK3U4J",
      "include_colab_link": true
    },
    "kernelspec": {
      "name": "python3",
      "display_name": "Python 3"
    }
  },
  "cells": [
    {
      "cell_type": "markdown",
      "metadata": {
        "id": "view-in-github",
        "colab_type": "text"
      },
      "source": [
        "<a href=\"https://colab.research.google.com/github/kevinmcmanus/numpy/blob/main/BasicGaiaQuery.ipynb\" target=\"_parent\"><img src=\"https://colab.research.google.com/assets/colab-badge.svg\" alt=\"Open In Colab\"/></a>"
      ]
    },
    {
      "cell_type": "markdown",
      "metadata": {
        "id": "pTE3DOEqY4zS"
      },
      "source": [
        "#Quick Gaia Query Tutorial"
      ]
    },
    {
      "cell_type": "markdown",
      "metadata": {
        "id": "ktxw2cXcZCO7"
      },
      "source": [
        "## Set Up Notebook Environment"
      ]
    },
    {
      "cell_type": "code",
      "metadata": {
        "id": "YzxRblwwuAe8"
      },
      "source": [
        "# no notebook should be without these\r\n",
        "import numpy as np\r\n",
        "import pandas as pd\r\n",
        "import matplotlib.pyplot as plt\r\n"
      ],
      "execution_count": 88,
      "outputs": []
    },
    {
      "cell_type": "code",
      "metadata": {
        "id": "PDLvbIS9_wLD"
      },
      "source": [
        "!pip install astroquery"
      ],
      "execution_count": null,
      "outputs": []
    },
    {
      "cell_type": "code",
      "metadata": {
        "id": "FT6SfwGj_mvF"
      },
      "source": [
        "import astropy.units as u\r\n",
        "import astropy.coordinates as coord\r\n",
        "from astropy.coordinates.sky_coordinate import SkyCoord\r\n",
        "from astropy.table import Table\r\n",
        "from astropy.units import Quantity\r\n",
        "from astroquery.gaia import Gaia"
      ],
      "execution_count": 90,
      "outputs": []
    },
    {
      "cell_type": "markdown",
      "metadata": {
        "id": "2a9cwaCyaxEj"
      },
      "source": [
        "## Basic ADQL Gaia Query\r\n",
        "\r\n",
        "\r\n",
        "\r\n",
        "> `SELECT <columnlist> FROM <source> WHERE <conditions>`\r\n",
        "\r\n",
        "We'll build up these three components and put them together to form the query.\r\n"
      ]
    },
    {
      "cell_type": "markdown",
      "metadata": {
        "id": "6HG86vy1c0gQ"
      },
      "source": [
        "### \\<columnlist>"
      ]
    },
    {
      "cell_type": "code",
      "metadata": {
        "id": "aYup4Xc9B0tQ"
      },
      "source": [
        "# list of columns to be fetched from  gaia_source table\r\n",
        "columnlist =  ', '.join([ 'ra','dec','parallax','pmra','pmdec','dr2_radial_velocity',\r\n",
        "\t\t\t\t\t\t\t\t'phot_g_mean_mag','phot_bp_mean_mag', 'phot_rp_mean_mag'])\r\n",
        "columnlist"
      ],
      "execution_count": null,
      "outputs": []
    },
    {
      "cell_type": "markdown",
      "metadata": {
        "id": "mfndBqcudIkD"
      },
      "source": [
        "### \\<source>"
      ]
    },
    {
      "cell_type": "code",
      "metadata": {
        "id": "W8ulQcnWdH4X"
      },
      "source": [
        "#simple enough:\r\n",
        "source = 'gaiaedr3.gaia_source'"
      ],
      "execution_count": 92,
      "outputs": []
    },
    {
      "cell_type": "markdown",
      "metadata": {
        "id": "az5YJ7uWdZBa"
      },
      "source": [
        "In the specification above, `gaia_source` is the main Gaia table with one record for each source (star). The table contains some 80-odd columns capturing different aspects of each star's observations.\r\n",
        "\r\n",
        "`gaiaedr3` is the schema specifier: there are different `gaia_source` tables for DR1, DR2 and early DR3, and the schema indicates which one we're interested in. Note that from one DR to another, the column names may vary, such that a `gaia_source` query executed against, say DR2 may require modicifations to execute against early DR3.\r\n",
        "\r\n",
        "The schemas are: `gaiadr`, `gaiadr2`, and `gaiaedr3`.\r\n"
      ]
    },
    {
      "cell_type": "markdown",
      "metadata": {
        "id": "koMOOVwIY_LY"
      },
      "source": [
        "See [Gaia Paper](https://www.aanda.org/articles/aa/full_html/2018/08/aa32843-18/aa32843-18.html#app) Section 2.1 and Appendix B for discussion of these filters."
      ]
    },
    {
      "cell_type": "markdown",
      "metadata": {
        "id": "RaWAjREUf7BA"
      },
      "source": [
        "### \\<conditions>\r\n",
        "\r\n",
        "Two sets of conditions:\r\n",
        "\r\n",
        "\r\n",
        "1.   Cone search parameters\r\n",
        "2.   observational filters\r\n",
        "\r\n"
      ]
    },
    {
      "cell_type": "code",
      "metadata": {
        "id": "lg0nAJhQgmkk"
      },
      "source": [
        "# Cone Search\r\n",
        "#construct minimal cone search query filter\r\n",
        "# ra, dec are center of cone search in degrees\r\n",
        "# radius is search radius in degrees\r\n",
        "\r\n",
        "#cone search around Pleiades # data from SIMBAD (not shown)\r\n",
        "ra, dec =   (56.75009433, 24.11647057)\r\n",
        "radius = 3 #degrees\r\n",
        "\r\n",
        "cone_search =  'CONTAINS(POINT(\\'\\', ra, dec), '\\\r\n",
        "  ' CIRCLE(\\'\\', {ra}, {dec}, {rad})) = 1 '.format(ra= ra, dec=dec, rad=radius)\r\n",
        "\r\n",
        "cone_search"
      ],
      "execution_count": null,
      "outputs": []
    },
    {
      "cell_type": "code",
      "metadata": {
        "id": "ZTb7GGk2BlTM"
      },
      "source": [
        "# build the observational filters for ADQL query:\r\n",
        "obs_filters = ' AND '.join( [\r\n",
        "  'parallax_over_error > 10',\r\n",
        "  'phot_g_mean_flux_over_error>50',\r\n",
        "  'phot_rp_mean_flux_over_error>20',\r\n",
        "  'phot_bp_mean_flux_over_error>20',\r\n",
        "  'phot_bp_rp_excess_factor < 1.3+0.06*power(phot_bp_mean_mag-phot_rp_mean_mag,2)',\r\n",
        "  'phot_bp_rp_excess_factor > 1.0+0.015*power(phot_bp_mean_mag-phot_rp_mean_mag,2)',\r\n",
        "  'visibility_periods_used>8',\r\n",
        "  'astrometric_chi2_al/(astrometric_n_good_obs_al-5)<1.44*greatest(1,exp(-0.4*(phot_g_mean_mag-19.5)))'\r\n",
        "])\r\n",
        "\r\n",
        "obs_filters"
      ],
      "execution_count": null,
      "outputs": []
    },
    {
      "cell_type": "code",
      "metadata": {
        "id": "wzw2xe2PncUa"
      },
      "source": [
        "#put the two conditions together\r\n",
        "conditions = f'{cone_search} AND {obs_filters}'\r\n",
        "conditions"
      ],
      "execution_count": null,
      "outputs": []
    },
    {
      "cell_type": "markdown",
      "metadata": {
        "id": "cpgcvh_Jn1cS"
      },
      "source": [
        "## Do the Query"
      ]
    },
    {
      "cell_type": "code",
      "metadata": {
        "id": "ta1uPpYHn5P_"
      },
      "source": [
        "# put the pieces together:\r\n",
        "query_str = f'SELECT {columnlist} FROM {source} WHERE {conditions}'\r\n",
        "query_str"
      ],
      "execution_count": null,
      "outputs": []
    },
    {
      "cell_type": "code",
      "metadata": {
        "id": "3aHpV2oN_q8J"
      },
      "source": [
        "job = Gaia.launch_job_async(query=query_str)\r\n",
        "result_tbl = job.get_results()"
      ],
      "execution_count": null,
      "outputs": []
    },
    {
      "cell_type": "code",
      "metadata": {
        "id": "Fgt46wmvoeRO"
      },
      "source": [
        "len(result_tbl)"
      ],
      "execution_count": null,
      "outputs": []
    },
    {
      "cell_type": "code",
      "metadata": {
        "id": "md10aY7fpA94"
      },
      "source": [
        "#examine first 5 rows\r\n",
        "result_tbl[:5]"
      ],
      "execution_count": null,
      "outputs": []
    },
    {
      "cell_type": "markdown",
      "metadata": {
        "id": "q9heIGXUpcih"
      },
      "source": [
        "## Diagnostics"
      ]
    },
    {
      "cell_type": "code",
      "metadata": {
        "id": "Mhx7ZOBqpF9D"
      },
      "source": [
        "# intentionally mess up query_str to see what an error looks like\r\n",
        "query_str2 = query_str + 'GuaranteedToFail'\r\n",
        "job = Gaia.launch_job_async(query=query_str2)\r\n"
      ],
      "execution_count": null,
      "outputs": []
    },
    {
      "cell_type": "markdown",
      "metadata": {
        "id": "AfPqpyuxp8pJ"
      },
      "source": [
        "Not very informative.  Synchronous queries give better diagnostics enabling one to see syntax errors in the query string, the most common problem.  Use `Gaia.launch_job` instead of `Gaia.launch_job_asynch`.\r\n",
        "\r\n",
        "`launch_job` returns at most 4000 rows."
      ]
    },
    {
      "cell_type": "code",
      "metadata": {
        "id": "TjsrF9EQp4-9"
      },
      "source": [
        "#use a synchronous query for diagnostics\r\n",
        "job = Gaia.launch_job(query=query_str2)"
      ],
      "execution_count": null,
      "outputs": []
    },
    {
      "cell_type": "markdown",
      "metadata": {
        "id": "PpyEnjjVt4Tx"
      },
      "source": [
        "## Motion Plot"
      ]
    },
    {
      "cell_type": "code",
      "metadata": {
        "id": "zmz0q2Amqs90"
      },
      "source": [
        "import matplotlib.colors as colors\r\n",
        "fig = plt.figure(figsize=(8,6))\r\n",
        "ax = fig.add_subplot()\r\n",
        "\r\n",
        "pcm = ax.scatter(result_tbl['pmra'], result_tbl['pmdec'], s=1, c=1000/result_tbl['parallax'],\r\n",
        "                norm=colors.LogNorm() )\r\n",
        "ax.set_ylabel('PM Dec (mas/yr)')\r\n",
        "ax.set_xlabel('PM RA_COS_DEC (mas/yr)')\r\n",
        "ax.set_title('Proper Motions')\r\n",
        "\r\n",
        "#using data from simbad, place cross hairs on Pleiades' PMs.\r\n",
        "ax.axvline(19.9999, ls=':', color='red', label='Pleides PM')\r\n",
        "ax.axhline(-45.54795337, ls=':', color='red')\r\n",
        "\r\n",
        "ax.legend()\r\n",
        "\r\n",
        "#uncomment zoom in to exclude the outliers\r\n",
        "ax.set_xlim(-75, 75)\r\n",
        "ax.set_ylim(-75,75)\r\n",
        "\r\n",
        "fig.colorbar(pcm,label='Distance (PC)')"
      ],
      "execution_count": null,
      "outputs": []
    },
    {
      "cell_type": "code",
      "metadata": {
        "id": "hcxeU3SrusKh"
      },
      "source": [
        "from scipy.stats import kde\r\n",
        "def plot_motions(pmra, pmdec, **kwargs):\r\n",
        "\r\n",
        "  ax = kwargs.get('ax')\r\n",
        "  title = kwargs.get('title', 'Proper Motions')\r\n",
        "  cmap = kwargs.get('cmap', 'viridis')\r\n",
        "  nbins = kwargs.get('nbins', 300)\r\n",
        "  \r\n",
        "  if ax is None:\r\n",
        "    fig, yax = plt.subplots()\r\n",
        "  else:\r\n",
        "    yax = ax\r\n",
        "    \r\n",
        "  x = np.array(pmra)\r\n",
        "  y = np.array(pmdec)\r\n",
        "  \r\n",
        "  # Evaluate a gaussian kde on a regular grid of nbins x nbins over data extents\r\n",
        "  k = kde.gaussian_kde([x,y])\r\n",
        "  xi, yi = np.mgrid[x.min():x.max():nbins*1j, y.min():y.max():nbins*1j]\r\n",
        "  zi = k(np.vstack([xi.flatten(), yi.flatten()]))\r\n",
        "  \r\n",
        "  pcm = yax.pcolormesh(xi, yi, zi.reshape(xi.shape), norm=colors.LogNorm(),\r\n",
        "                       cmap=cmap)\r\n",
        "  \r\n",
        "  yax.set_title(title)\r\n",
        "  yax.set_ylabel('PM Dec (mas/yr)')\r\n",
        "  yax.set_xlabel('PM RA (mas/yr)')\r\n",
        "  \r\n",
        "  if ax is None:\r\n",
        "    fig.colorbar(pcm)\r\n",
        "  \r\n",
        "  return pcm\r\n"
      ],
      "execution_count": 103,
      "outputs": []
    },
    {
      "cell_type": "code",
      "metadata": {
        "id": "lSnQ9aYJ03iQ"
      },
      "source": [
        "# just look at stars 75 to 150 pc distance\r\n",
        "plx_lo = 1000/150\r\n",
        "plx_hi = 1000/75\r\n",
        "\r\n",
        "ra_mask = np.logical_and(result_tbl['pmra']>=-75, result_tbl['pmra']<= 75)\r\n",
        "dec_mask = np.logical_and(result_tbl['pmdec']>=-75, result_tbl['pmdec']<= 75)\r\n",
        "pm_mask = np.logical_and(ra_mask, dec_mask)\r\n",
        "plx_mask = np.logical_and(result_tbl['parallax'] >= plx_lo, result_tbl['parallax']<= plx_hi)\r\n",
        "\r\n",
        "\r\n",
        "mask = np.logical_and(plx_mask, pm_mask)\r\n",
        "pmra = result_tbl['pmra'][mask]\r\n",
        "pmdec = result_tbl['pmdec'][mask]"
      ],
      "execution_count": 104,
      "outputs": []
    },
    {
      "cell_type": "code",
      "metadata": {
        "id": "blAUf3vay2fN"
      },
      "source": [
        "fig = plt.figure(figsize=(8,6))\r\n",
        "ax = fig.add_subplot()\r\n",
        "\r\n",
        "pcm = plot_motions(pmra, pmdec, ax=ax, cmap='jet')\r\n",
        "fig.colorbar(pcm,label='??log(10) Stars/Degree??')"
      ],
      "execution_count": null,
      "outputs": []
    },
    {
      "cell_type": "markdown",
      "metadata": {
        "id": "3PNBm56ZRzhQ"
      },
      "source": [
        "## HR Diagrams\r\n",
        "\r\n",
        "Steps:\r\n",
        "\r\n",
        "\r\n",
        "1.   calculate distance modulus then absolute magnitude for each star\r\n",
        "2.   calculate each star's color\r\n",
        "3.   create scatter diagram(s); annotate with labels\r\n",
        "\r\n"
      ]
    },
    {
      "cell_type": "code",
      "metadata": {
        "id": "4TbfRdudzBBT"
      },
      "source": [
        "# get absolute magnitude for y axis\r\n",
        "dist = 1000/result_tbl['parallax']\r\n",
        "distmod = 5*np.log10(dist)-5\r\n",
        "M_G = result_tbl['phot_g_mean_mag'] - distmod\r\n",
        "\r\n",
        "# colors\r\n",
        "BP_RP = result_tbl['phot_bp_mean_mag'] - result_tbl['phot_rp_mean_mag']\r\n",
        "\r\n",
        "#plot\r\n",
        "fig = plt.figure(figsize=(8,6))\r\n",
        "ax = fig.add_subplot()\r\n",
        "ax.scatter(BP_RP, M_G, s=1)\r\n",
        "ax.invert_yaxis()\r\n",
        "ax.set_ylabel('Absolute Magnitude: $M_G$', fontsize=20)\r\n",
        "ax.set_xlabel('Color: $BP-RP$', fontsize=20)\r\n",
        "ax.set_title('Color Magnitude Diagram', fontsize=20)\r\n"
      ],
      "execution_count": null,
      "outputs": []
    },
    {
      "cell_type": "markdown",
      "metadata": {
        "id": "2Hb84tRXXkFx"
      },
      "source": [
        "Use PM and Parallax masks from above for crude approximation of Pleiades' members"
      ]
    },
    {
      "cell_type": "code",
      "metadata": {
        "id": "z8O0GR8CX4yk"
      },
      "source": [
        "# just look at stars 75 to 150 pc distance\r\n",
        "plx_lo = 1000/150\r\n",
        "plx_hi = 1000/75\r\n",
        "\r\n",
        "ra_mask = np.logical_and(result_tbl['pmra']>=-75, result_tbl['pmra']<= 75)\r\n",
        "dec_mask = np.logical_and(result_tbl['pmdec']>=-75, result_tbl['pmdec']<= 75)\r\n",
        "pm_mask = np.logical_and(ra_mask, dec_mask)\r\n",
        "\r\n",
        "plx_mask = np.logical_and(result_tbl['parallax'] >= plx_lo, result_tbl['parallax']<= plx_hi)\r\n",
        "\r\n",
        "mask = np.logical_and(plx_mask, pm_mask)"
      ],
      "execution_count": 107,
      "outputs": []
    },
    {
      "cell_type": "code",
      "metadata": {
        "id": "wLfNaWFDTZbw"
      },
      "source": [
        "fig = plt.figure(figsize=(8,6))\r\n",
        "ax = fig.add_subplot()\r\n",
        "\r\n",
        "#create scatter plot using pm and parallax mask from above\r\n",
        "ax.scatter(BP_RP[mask], M_G[mask], s=1)\r\n",
        "\r\n",
        "ax.invert_yaxis()\r\n",
        "ax.set_ylabel('Absolute Magnitude: $M_G$', fontsize=20)\r\n",
        "ax.set_xlabel('Color: $BP-RP$', fontsize=20)\r\n",
        "ax.set_title('Color Magnitude Diagram', fontsize=20)"
      ],
      "execution_count": null,
      "outputs": []
    },
    {
      "cell_type": "code",
      "metadata": {
        "id": "MjB4l6lBVVe3"
      },
      "source": [
        "# which ones have radial velocity?\r\n",
        "mask2 = np.isfinite(result_tbl['dr2_radial_velocity'])\r\n",
        "\r\n",
        "fig = plt.figure(figsize=(8,6))\r\n",
        "ax = fig.add_subplot()\r\n",
        "\r\n",
        "#plot with and without radial velocity\r\n",
        "ax.scatter(BP_RP[~mask2], M_G[~mask2], color='blue', s=1, label='Without RV')\r\n",
        "ax.scatter(BP_RP[mask2], M_G[mask2], color='red', s=1, label='With RV')\r\n",
        "\r\n",
        "ax.invert_yaxis()\r\n",
        "ax.legend()\r\n",
        "ax.set_ylabel('Absolute Magnitude: $M_G$', fontsize=20)\r\n",
        "ax.set_xlabel('Color: $BP-RP$', fontsize=20)\r\n",
        "ax.set_title('Color Magnitude Diagram', fontsize=20)\r\n",
        "\r\n"
      ],
      "execution_count": null,
      "outputs": []
    },
    {
      "cell_type": "code",
      "metadata": {
        "id": "HaDIbqwwWVuh"
      },
      "source": [
        ""
      ],
      "execution_count": null,
      "outputs": []
    }
  ]
}